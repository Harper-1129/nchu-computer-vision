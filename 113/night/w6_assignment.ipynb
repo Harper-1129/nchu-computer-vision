{
  "nbformat": 4,
  "nbformat_minor": 0,
  "metadata": {
    "colab": {
      "provenance": [],
      "gpuType": "T4"
    },
    "kernelspec": {
      "name": "python3",
      "display_name": "Python 3"
    },
    "language_info": {
      "name": "python"
    },
    "accelerator": "GPU"
  },
  "cells": [
    {
      "cell_type": "markdown",
      "source": [
        "# Homework2:模型優化"
      ],
      "metadata": {
        "id": "LGJszyrPdZsu"
      }
    },
    {
      "cell_type": "markdown",
      "source": [
        "說明:以下是一個簡易的使用cnn進行CIFAR-10資料集的實作\n",
        "\n",
        "* 請基於以下的code完成作業，epoch最多可以調整到15，**若超過扣50分**\n",
        "* 此作業專注在課堂上提到的優化技巧，請在不調整epoch以外的原本超參數設定的情況下(刪減卷積層數量、神經元數量、batch size等等)完成模型的優化,**若調整扣50分**\n",
        "* 請使用Data Augmentation、L1 or L2 Regularization、Dropout和Batch Normalization、EarlyStopping的方法來完成\n",
        "* 可以自行調整L1 or L2 Regularization、Dropout和Batch Normalization的參數\n",
        "* 請不要刪除文字說明,**違者-10分**\n",
        "* 若同學的實作方法跟我們提供的順序不一樣的話，請詳細說明在哪個區塊實作，以避免扣分\n",
        "* 請同學善用markdown或是註解來標示出自己的實作方法，以利批改"
      ],
      "metadata": {
        "id": "QOufeB2Idld6"
      }
    },
    {
      "cell_type": "code",
      "execution_count": 56,
      "metadata": {
        "id": "rwniaxFz5klb"
      },
      "outputs": [],
      "source": [
        "import torch\n",
        "import torch.nn as nn\n",
        "import numpy as np\n",
        "import random\n",
        "import torch.optim as optim\n",
        "import torch.nn.functional as F\n",
        "import torchvision\n",
        "import torchvision.transforms as transforms\n",
        "from torch.utils.data import DataLoader\n",
        "import matplotlib.pyplot as plt"
      ]
    },
    {
      "cell_type": "code",
      "source": [
        "device = torch.device('cuda' if torch.cuda.is_available() else 'cpu')\n"
      ],
      "metadata": {
        "id": "LwiB8DbM6mC4"
      },
      "execution_count": 57,
      "outputs": []
    },
    {
      "cell_type": "code",
      "source": [
        "# 使用隨機種子\n",
        "def set_random_seed(seed):\n",
        "    random.seed(seed)\n",
        "    np.random.seed(seed)\n",
        "    torch.manual_seed(seed)\n",
        "    torch.cuda.manual_seed(seed)\n",
        "    torch.cuda.manual_seed_all(seed)\n",
        "    torch.backends.cudnn.deterministic = True\n",
        "    torch.backends.cudnn.benchmark = False\n",
        "\n",
        "set_random_seed(1)  # 固定隨機種子，不可更改"
      ],
      "metadata": {
        "id": "AS6pFhXmQTAn"
      },
      "execution_count": 58,
      "outputs": []
    },
    {
      "cell_type": "markdown",
      "source": [
        "1.Data Augmentation(20分)"
      ],
      "metadata": {
        "id": "cG66Nf4FjKJA"
      }
    },
    {
      "cell_type": "code",
      "source": [
        "transform = transforms.Compose([\n",
        "    transforms.ToTensor(),  # 轉換為 Tensor\n",
        "    transforms.RandomHorizontalFlip(),  # 隨機水平翻轉\n",
        "        transforms.RandomCrop(32, padding=4),  # 隨機裁剪到32x32，並填充4像素\n",
        "])\n",
        "val_transform = transforms.Compose([\n",
        "    transforms.ToTensor(),  # 轉換為 Tensor\n",
        "\n",
        "])\n"
      ],
      "metadata": {
        "id": "P3aGeQ1W6nQI"
      },
      "execution_count": 59,
      "outputs": []
    },
    {
      "cell_type": "code",
      "source": [
        "# 加載 CIFAR-10 原始資料集\n",
        "trainset_full = torchvision.datasets.CIFAR10(root='./data', train=True, download=True, transform=transform)\n",
        "\n",
        "# 將訓練集拆分為新的訓練集和驗證集，並固定隨機種子\n",
        "train_size = int(0.8 * len(trainset_full))  # 80% 作為訓練集\n",
        "valid_size = len(trainset_full) - train_size  # 20% 作為驗證集\n",
        "trainset, validset = torch.utils.data.random_split(trainset_full, [train_size, valid_size],\n",
        "                                                   generator=torch.Generator().manual_seed(1))  # 固定隨機種子，不可更改\n",
        "\n",
        "# 創建 DataLoader\n",
        "trainloader = DataLoader(trainset, batch_size=100, shuffle=True, num_workers=2)\n",
        "validloader = DataLoader(validset, batch_size=100, shuffle=False, num_workers=2)\n",
        "\n",
        "# 加載 CIFAR-10 測試集並創建 testloader\n",
        "testset = torchvision.datasets.CIFAR10(root='./data', train=False, download=True, transform=transform)\n",
        "testloader = DataLoader(testset, batch_size=100, shuffle=False, num_workers=2)\n",
        "\n",
        "# print資料集的大小\n",
        "print(f\"原始訓練集大小: {len(trainset_full)}\")\n",
        "print(f\"訓練集大小: {len(trainset)}\")\n",
        "print(f\"驗證集大小: {len(validset)}\")\n",
        "print(f\"測試集大小: {len(testset)}\")\n"
      ],
      "metadata": {
        "colab": {
          "base_uri": "https://localhost:8080/"
        },
        "id": "Ty49fq6I6sch",
        "outputId": "414b6d8d-6ec4-4674-9e58-74b8a44fd31d"
      },
      "execution_count": 60,
      "outputs": [
        {
          "output_type": "stream",
          "name": "stdout",
          "text": [
            "Files already downloaded and verified\n",
            "Files already downloaded and verified\n",
            "原始訓練集大小: 50000\n",
            "訓練集大小: 40000\n",
            "驗證集大小: 10000\n",
            "測試集大小: 10000\n"
          ]
        }
      ]
    },
    {
      "cell_type": "markdown",
      "source": [
        "2.Dropout、Batch Normalization(40分)"
      ],
      "metadata": {
        "id": "AU0kPUKkkiGR"
      }
    },
    {
      "cell_type": "code",
      "source": [
        "import torch\n",
        "import torch.nn as nn\n",
        "import torch.nn.functional as F\n",
        "\n",
        "class SimpleCNN(nn.Module):\n",
        "    def __init__(self):\n",
        "        super(SimpleCNN, self).__init__()\n",
        "        self.conv1 = nn.Conv2d(3, 32, kernel_size=3, padding=1)  # 第一層卷積層\n",
        "        self.bn1 = nn.BatchNorm2d(32)  # 卷積層1後加入 Batch Normalization\n",
        "        self.conv2 = nn.Conv2d(32, 64, kernel_size=3, padding=1)  # 第二層卷積層\n",
        "        self.bn2 = nn.BatchNorm2d(64)  # 卷積層2後加入 Batch Normalization\n",
        "        self.pool = nn.MaxPool2d(2, 2)  # 池化層\n",
        "        self.dropout = nn.Dropout(p=0.5)  # Dropout層，設置丟棄比例為 0.5 ,即每次訓練都會有50%的的神經元會被隨機關閉\n",
        "        self.fc1 = nn.Linear(64 * 8 * 8, 512)  # 全連接層1\n",
        "        self.bn_fc = nn.BatchNorm1d(512)  # 全連接層後的 Batch Normalization\n",
        "        self.fc2 = nn.Linear(512, 100)  # 全連接層2，對應100類\n",
        "\n",
        "    def forward(self, x):\n",
        "        x = self.pool(F.relu(self.bn1(self.conv1(x))))  # 卷積1 + ReLU + 池化 + batchNorm\n",
        "        x = self.pool(F.relu(self.bn2(self.conv2(x))))  # 卷積2 + ReLU + 池化 + batchNorm\n",
        "        x = x.view(-1, 64 * 8 * 8)  # 展平輸入\n",
        "        x = F.relu(self.bn_fc(self.fc1(x)))  # 全連接層1 + ReLU + batchNorm\n",
        "        x = self.dropout(x)  # 在第一個全連接層 fc1 的 ReLU 激活函數之後，使用 Dropout\n",
        "        x = self.fc2(x)  # 全連接層2 (輸出100類)\n",
        "        return x\n"
      ],
      "metadata": {
        "id": "9wqROOfQ6x5d"
      },
      "execution_count": 61,
      "outputs": []
    },
    {
      "cell_type": "markdown",
      "source": [
        "3.L1 or L2 Regularization(20分)"
      ],
      "metadata": {
        "id": "spMC5SXBknKo"
      }
    },
    {
      "cell_type": "code",
      "source": [
        "import torch\n",
        "import torch.optim as optim\n",
        "device = torch.device('cuda' if torch.cuda.is_available() else 'cpu') # 檢查是否有 GPU 可用，否則使用 CPU\n",
        "\n",
        "net = SimpleCNN().to(device)\n",
        "criterion = nn.CrossEntropyLoss()  # 交叉熵損失\n",
        "optimizer = optim.Adam(net.parameters(), lr=0.001, weight_decay=1e-4)  # Adam優化器 （將L2 regularization加入adam的weight_decay參數中）\n"
      ],
      "metadata": {
        "id": "XASMTzra61DJ"
      },
      "execution_count": 62,
      "outputs": []
    },
    {
      "cell_type": "markdown",
      "source": [
        "4.完成EarlyStopping的設定，若5個EPOCH都沒有更好的結果，就停止訓練\n",
        "(5分)"
      ],
      "metadata": {
        "id": "NKnmbcxPuwl-"
      }
    },
    {
      "cell_type": "code",
      "source": [
        "class EarlyStopping:\n",
        "    def __init__(self, patience=5, verbose=False, delta=0): # 5個 epoch沒有改善就停止訓練\n",
        "\n",
        "        self.patience = patience\n",
        "        self.verbose = verbose\n",
        "        self.counter = 0\n",
        "        self.best_score = None\n",
        "        self.early_stop = False\n",
        "        self.val_loss_min = float('inf')\n",
        "        self.delta = delta\n",
        "\n",
        "    def __call__(self, val_loss):\n",
        "        score = -val_loss\n",
        "\n",
        "        if self.best_score is None:\n",
        "            self.best_score = score\n",
        "            self.save_checkpoint(val_loss)\n",
        "        elif score < self.best_score + self.delta:\n",
        "            self.counter += 1\n",
        "            if self.verbose:\n",
        "                print(f'EarlyStopping counter: {self.counter} out of {self.patience}')\n",
        "            if self.counter >= self.patience:\n",
        "                self.early_stop = True\n",
        "        else:\n",
        "            self.best_score = score\n",
        "            self.save_checkpoint(val_loss)\n",
        "            self.counter = 0\n",
        "\n",
        "    def save_checkpoint(self, val_loss): # 確保最佳模型留下\n",
        "        if self.verbose:\n",
        "            print(f'Validation loss decreased ({self.val_loss_min:.6f} --> {val_loss:.6f}). Saving model...')\n",
        "        self.val_loss_min = val_loss\n",
        "\n",
        "\n",
        "\n",
        "\n",
        "\n"
      ],
      "metadata": {
        "id": "2FOFNRziu90x"
      },
      "execution_count": 63,
      "outputs": []
    },
    {
      "cell_type": "markdown",
      "source": [
        "5.train_model增加EarlyStopping的判斷邏輯(5分)"
      ],
      "metadata": {
        "id": "-C2moGl52DOX"
      }
    },
    {
      "cell_type": "code",
      "source": [
        "\n",
        "class EarlyStopping: # 加入early stopping\n",
        "    def __init__(self, patience=5, verbose=False, delta=0):\n",
        "        self.patience = patience\n",
        "        self.verbose = verbose\n",
        "        self.counter = 0\n",
        "        self.best_score = None\n",
        "        self.early_stop = False\n",
        "        self.val_loss_min = float('inf')\n",
        "        self.delta = delta\n",
        "\n",
        "    def __call__(self, val_loss):\n",
        "        score = -val_loss\n",
        "\n",
        "        if self.best_score is None:\n",
        "            self.best_score = score\n",
        "            self.save_checkpoint(val_loss)\n",
        "        elif score < self.best_score + self.delta:\n",
        "            self.counter += 1\n",
        "            if self.verbose:\n",
        "                print(f'EarlyStopping counter: {self.counter} out of {self.patience}')\n",
        "            if self.counter >= self.patience:\n",
        "                self.early_stop = True\n",
        "        else:\n",
        "            self.best_score = score\n",
        "            self.save_checkpoint(val_loss)\n",
        "            self.counter = 0\n",
        "\n",
        "    def save_checkpoint(self, val_loss):\n",
        "        if self.verbose:\n",
        "            print(f'Validation loss decreased ({self.val_loss_min:.6f} --> {val_loss:.6f}). Saving model...')\n",
        "        self.val_loss_min = val_loss\n",
        "\n",
        "def train_model(epochs, l1_lambda=0.0, patience=5, weight_decay=1e-4):\n",
        "  # 改 train_model 加入 L1 、L2 (weight_decay 參數)regularizion 、Early Stopping\n",
        "    train_losses = []\n",
        "    train_accuracies = []\n",
        "    valid_losses = []\n",
        "    valid_accuracies = []\n",
        "\n",
        "    early_stopping = EarlyStopping(patience=patience, verbose=True)     # EarlyStopping 進行初始\n",
        "\n",
        "    optimizer = torch.optim.Adam(net.parameters(), lr=0.001, weight_decay=weight_decay) # 在adam加入L2 regulariztion（weight_decay）\n",
        "\n",
        "\n",
        "\n",
        "    for epoch in range(epochs):\n",
        "        running_loss = 0.0\n",
        "        correct = 0\n",
        "        total = 0\n",
        "\n",
        "        # 訓練過程\n",
        "        net.train()\n",
        "        for i, data in enumerate(trainloader, 0):\n",
        "            inputs, labels = data\n",
        "            inputs, labels = inputs.to(device), labels.to(device)\n",
        "\n",
        "            optimizer.zero_grad()\n",
        "            outputs = net(inputs)\n",
        "            loss = criterion(outputs, labels)\n",
        "            l1_loss = 0 # 加入L1\n",
        "            for param in net.parameters():\n",
        "                l1_loss += torch.sum(torch.abs(param))  # 計算 L1 懲罰項\n",
        "            loss += l1_lambda * l1_loss  # 將 L1 加入到損失中\n",
        "\n",
        "\n",
        "            loss.backward()\n",
        "            optimizer.step()\n",
        "\n",
        "            running_loss += loss.item()\n",
        "            _, predicted = torch.max(outputs, 1)\n",
        "            total += labels.size(0)\n",
        "            correct += (predicted == labels).sum().item()\n",
        "\n",
        "        # 記錄訓練集的損失和準確率\n",
        "        train_loss = running_loss / len(trainloader)\n",
        "        train_accuracy = 100 * correct / total\n",
        "        train_losses.append(train_loss)\n",
        "        train_accuracies.append(train_accuracy)\n",
        "\n",
        "        # 驗證集評估\n",
        "        net.eval()\n",
        "        valid_loss = 0.0\n",
        "        valid_correct = 0\n",
        "        valid_total = 0\n",
        "        with torch.no_grad():\n",
        "            for data in validloader:\n",
        "                images, labels = data\n",
        "                images, labels = images.to(device), labels.to(device)\n",
        "                outputs = net(images)\n",
        "                loss = criterion(outputs, labels)\n",
        "                valid_loss += loss.item()\n",
        "                _, predicted = torch.max(outputs, 1)\n",
        "                valid_total += labels.size(0)\n",
        "                valid_correct += (predicted == labels).sum().item()\n",
        "\n",
        "        valid_loss = valid_loss / len(validloader)\n",
        "        valid_accuracy = 100 * valid_correct / valid_total\n",
        "        valid_losses.append(valid_loss)\n",
        "        valid_accuracies.append(valid_accuracy)\n",
        "\n",
        "        print(f'[Epoch {epoch+1}/{epochs}] Train loss: {train_loss:.4f}, Train accuracy: {train_accuracy:.2f}% | Validation loss: {valid_loss:.4f}, Validation accuracy: {valid_accuracy:.2f}%')\n",
        "\n",
        "        early_stopping(valid_loss) # Early Stopping 檢查\n",
        "        if early_stopping.early_stop:\n",
        "            print(\"Early stopping\")\n",
        "            break\n",
        "\n",
        "    print('Finished Training')\n",
        "\n",
        "    return train_losses, train_accuracies, valid_losses, valid_accuracies\n"
      ],
      "metadata": {
        "id": "vIl-1cCM63uN"
      },
      "execution_count": 64,
      "outputs": []
    },
    {
      "cell_type": "code",
      "source": [
        "def test_model():\n",
        "    correct = 0\n",
        "    total = 0\n",
        "    with torch.no_grad():\n",
        "        for data in testloader:\n",
        "            images, labels = data\n",
        "            images, labels = images.to(device), labels.to(device)\n",
        "            outputs = net(images)\n",
        "            _, predicted = torch.max(outputs, 1)\n",
        "            total += labels.size(0)\n",
        "            correct += (predicted == labels).sum().item()\n",
        "\n",
        "    print(f'Accuracy on the 10000 test images: {100 * correct / total:.2f}%')\n"
      ],
      "metadata": {
        "id": "8O89sWvF7DAF"
      },
      "execution_count": 65,
      "outputs": []
    },
    {
      "cell_type": "code",
      "source": [
        "def plot_metrics(train_losses, train_accuracies, valid_losses, valid_accuracies):\n",
        "    epochs = range(1, len(train_losses) + 1)\n",
        "\n",
        "    # 損失圖表\n",
        "    plt.figure(figsize=(12, 5))\n",
        "\n",
        "    plt.subplot(1, 2, 1)\n",
        "    plt.plot(epochs, train_losses, 'bo-', label='Training Loss')\n",
        "    plt.plot(epochs, valid_losses, 'ro-', label='Validation Loss')\n",
        "    plt.title('Training and Validation Loss')\n",
        "    plt.xlabel('Epochs')\n",
        "    plt.ylabel('Loss')\n",
        "    plt.legend()\n",
        "\n",
        "    # 準確率圖表\n",
        "    plt.subplot(1, 2, 2)\n",
        "    plt.plot(epochs, train_accuracies, 'bo-', label='Training Accuracy')\n",
        "    plt.plot(epochs, valid_accuracies, 'ro-', label='Validation Accuracy')\n",
        "    plt.title('Training and Validation Accuracy')\n",
        "    plt.xlabel('Epochs')\n",
        "    plt.ylabel('Accuracy (%)')\n",
        "    plt.legend()\n",
        "\n",
        "    plt.show()\n"
      ],
      "metadata": {
        "id": "mirBt3Yv9rhN"
      },
      "execution_count": 66,
      "outputs": []
    },
    {
      "cell_type": "code",
      "source": [
        "# 訓練模型並獲取損失與準確率\n",
        "train_losses, train_accuracies, valid_losses, valid_accuracies = train_model(epochs=5)#epochs最多可以調整到15\n",
        "\n",
        "# 繪製圖表\n",
        "plot_metrics(train_losses, train_accuracies, valid_losses, valid_accuracies)"
      ],
      "metadata": {
        "colab": {
          "base_uri": "https://localhost:8080/",
          "height": 683
        },
        "id": "TyobsbHj7Ghq",
        "outputId": "b42a3152-b69c-4b91-bfb0-1952f6f21835"
      },
      "execution_count": 75,
      "outputs": [
        {
          "output_type": "stream",
          "name": "stdout",
          "text": [
            "[Epoch 1/5] Train loss: 0.7421, Train accuracy: 74.05% | Validation loss: 0.7496, Validation accuracy: 74.10%\n",
            "Validation loss decreased (inf --> 0.749642). Saving model...\n",
            "[Epoch 2/5] Train loss: 0.7302, Train accuracy: 74.69% | Validation loss: 0.7143, Validation accuracy: 75.36%\n",
            "Validation loss decreased (0.749642 --> 0.714344). Saving model...\n",
            "[Epoch 3/5] Train loss: 0.7211, Train accuracy: 74.85% | Validation loss: 0.7951, Validation accuracy: 72.66%\n",
            "EarlyStopping counter: 1 out of 5\n",
            "[Epoch 4/5] Train loss: 0.7119, Train accuracy: 75.39% | Validation loss: 0.7217, Validation accuracy: 75.59%\n",
            "EarlyStopping counter: 2 out of 5\n",
            "[Epoch 5/5] Train loss: 0.7045, Train accuracy: 75.43% | Validation loss: 0.7137, Validation accuracy: 75.62%\n",
            "Validation loss decreased (0.714344 --> 0.713701). Saving model...\n",
            "Finished Training\n"
          ]
        },
        {
          "output_type": "display_data",
          "data": {
            "text/plain": [
              "<Figure size 1200x500 with 2 Axes>"
            ],
            "image/png": "[encoded data removed]"
          },
          "metadata": {}
        }
      ]
    },
    {
      "cell_type": "markdown",
      "source": [
        "6.經過您改進的方法後,模型在測試集的Accuracy達到73.9%或以上(10分)"
      ],
      "metadata": {
        "id": "3-NljYufdn6u"
      }
    },
    {
      "cell_type": "code",
      "source": [
        "# 測試模型\n",
        "test_model()"
      ],
      "metadata": {
        "colab": {
          "base_uri": "https://localhost:8080/"
        },
        "id": "FEugdt_mAY0K",
        "outputId": "bc5cd6d9-472d-44c9-d6b4-e41fb323027c"
      },
      "execution_count": 76,
      "outputs": [
        {
          "output_type": "stream",
          "name": "stdout",
          "text": [
            "Accuracy on the 10000 test images: 75.54%\n"
          ]
        }
      ]
    }
  ]
}